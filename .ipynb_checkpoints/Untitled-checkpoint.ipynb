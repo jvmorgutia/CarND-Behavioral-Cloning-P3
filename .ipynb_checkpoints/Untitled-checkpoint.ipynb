{
 "cells": [
  {
   "cell_type": "code",
   "execution_count": 4,
   "metadata": {
    "scrolled": true
   },
   "outputs": [
    {
     "name": "stderr",
     "output_type": "stream",
     "text": [
      "/Users/jesse/miniconda3/lib/python3.6/site-packages/h5py/__init__.py:36: FutureWarning: Conversion of the second argument of issubdtype from `float` to `np.floating` is deprecated. In future, it will be treated as `np.float64 == np.dtype(float).type`.\n",
      "  from ._conv import register_converters as _register_converters\n",
      "Using TensorFlow backend.\n"
     ]
    }
   ],
   "source": [
    "import csv\n",
    "import cv2\n",
    "import numpy as np\n",
    "import tensorflow as tf\n",
    "import matplotlib.pyplot as plt\n",
    "\n",
    "from keras.models import Sequential\n",
    "from keras.layers import Flatten, Dense, Lambda, Cropping2D, Dropout\n",
    "from keras.layers.convolutional import Convolution2D\n"
   ]
  },
  {
   "cell_type": "code",
   "execution_count": 5,
   "metadata": {},
   "outputs": [],
   "source": [
    "def append_image(filename, adjustment):\n",
    "    current_path = 'data/IMG/' + filename\n",
    "    image = cv2.imread(current_path)\n",
    "    flipped = cv2.flip(image,0)\n",
    "    images.append(image)\n",
    "    images.append(flipped)\n",
    "    measurement = float(line[3]) + float(adjustment)\n",
    "    measurements.append(measurement)\n",
    "    measurements.append(-measurement)\n",
    "    \n",
    "#def preprocess(images):\n",
    "#    batch = np.zeros((images.shape[0],160,320,3))\n",
    "#    for img in range(images.shape[0]):\n",
    "#        batch[img] = img\n",
    "#    return batch\n",
    "\n",
    "def train(xdata, ydata, epoc):\n",
    "    model = Sequential()\n",
    "    model.add(Lambda(lambda x: (x/255.0) - 0.5, input_shape=(160,320,3)))\n",
    "    model.add(Cropping2D(cropping=((60, 20), (0,0))))\n",
    "\n",
    "    model.add(Convolution2D(24,5,5,subsample=(2,2),activation=\"relu\"))\n",
    "    model.add(Convolution2D(36,5,5,subsample=(2,2),activation=\"relu\"))\n",
    "    model.add(Convolution2D(48,5,5,subsample=(2,2),activation=\"relu\"))\n",
    "    model.add(Convolution2D(64,3,3,activation=\"relu\"))\n",
    "    model.add(Convolution2D(64,3,3,activation=\"relu\"))\n",
    "\n",
    "    model.add(Flatten())\n",
    "    model.add(Dense(100))\n",
    "    #model.add(Dropout(0.2))\n",
    "    model.add(Dense(150))\n",
    "    model.add(Dense(10))\n",
    "    #model.add(Dropout(0.2))\n",
    "    model.add(Dense(1))\n",
    "\n",
    "    model.compile(loss='mse', optimizer ='adam')\n",
    "    model.fit(x=xdata, y=ydata, validation_split=0.2, shuffle=True, epochs=epoc)\n",
    "    model.save('model.h5')"
   ]
  },
  {
   "cell_type": "code",
   "execution_count": 6,
   "metadata": {},
   "outputs": [
    {
     "name": "stdout",
     "output_type": "stream",
     "text": [
      "------Gathering Data------\n",
      "Converting images...\n",
      "(22020, 160, 320, 3)\n"
     ]
    }
   ],
   "source": [
    "lines = []\n",
    "images = []\n",
    "measurements = [] \n",
    "\n",
    "with open('./data/driving_log.csv') as csvfile:\n",
    "    reader = csv.reader(csvfile)\n",
    "    for line in reader:\n",
    "        lines.append(line)    \n",
    "print('------Gathering Data------')   \n",
    "\n",
    "for line in lines:\n",
    "    source_center = line[0]\n",
    "    #source_left = line[1]\n",
    "    #source_right=line[2]\n",
    "    filename_center = source_center.split('/')[-1]\n",
    "    #filename_left = source_left.split('/')[-1]\n",
    "    #filename_right = source_right.split('/')[-1]    \n",
    "    append_image(filename_center,0)    \n",
    "    #append_image(filename_left, 0.28)\n",
    "    #append_image(filename_right,-0.28)\n",
    "\n",
    "print('Converting images...')   \n",
    "X_train = np.array(images)\n",
    "y_train = np.array(measurements)\n",
    "print(X_train.shape)"
   ]
  },
  {
   "cell_type": "code",
   "execution_count": 7,
   "metadata": {},
   "outputs": [
    {
     "name": "stdout",
     "output_type": "stream",
     "text": [
      "------Starting Training------\n",
      "\n"
     ]
    },
    {
     "name": "stderr",
     "output_type": "stream",
     "text": [
      "/Users/jesse/miniconda3/lib/python3.6/site-packages/ipykernel_launcher.py:22: UserWarning: Update your `Conv2D` call to the Keras 2 API: `Conv2D(24, (5, 5), activation=\"relu\", strides=(2, 2))`\n",
      "/Users/jesse/miniconda3/lib/python3.6/site-packages/ipykernel_launcher.py:23: UserWarning: Update your `Conv2D` call to the Keras 2 API: `Conv2D(36, (5, 5), activation=\"relu\", strides=(2, 2))`\n",
      "/Users/jesse/miniconda3/lib/python3.6/site-packages/ipykernel_launcher.py:24: UserWarning: Update your `Conv2D` call to the Keras 2 API: `Conv2D(48, (5, 5), activation=\"relu\", strides=(2, 2))`\n",
      "/Users/jesse/miniconda3/lib/python3.6/site-packages/ipykernel_launcher.py:25: UserWarning: Update your `Conv2D` call to the Keras 2 API: `Conv2D(64, (3, 3), activation=\"relu\")`\n",
      "/Users/jesse/miniconda3/lib/python3.6/site-packages/ipykernel_launcher.py:26: UserWarning: Update your `Conv2D` call to the Keras 2 API: `Conv2D(64, (3, 3), activation=\"relu\")`\n"
     ]
    },
    {
     "name": "stdout",
     "output_type": "stream",
     "text": [
      "Train on 17616 samples, validate on 4404 samples\n",
      "Epoch 1/3\n",
      "17616/17616 [==============================] - 414s 23ms/step - loss: 0.0120 - val_loss: 0.0067\n",
      "Epoch 2/3\n",
      "17616/17616 [==============================] - 395s 22ms/step - loss: 0.0100 - val_loss: 0.0054\n",
      "Epoch 3/3\n",
      "17616/17616 [==============================] - 388s 22ms/step - loss: 0.0096 - val_loss: 0.0048\n",
      "===== Finished saving =====\n"
     ]
    }
   ],
   "source": [
    "print('------Starting Training------')\n",
    "print()\n",
    "train(X_train, y_train, 3)\n",
    "print('===== Finished saving =====')\n"
   ]
  },
  {
   "cell_type": "code",
   "execution_count": null,
   "metadata": {},
   "outputs": [],
   "source": []
  }
 ],
 "metadata": {
  "kernelspec": {
   "display_name": "Python 3",
   "language": "python",
   "name": "python3"
  },
  "language_info": {
   "codemirror_mode": {
    "name": "ipython",
    "version": 3
   },
   "file_extension": ".py",
   "mimetype": "text/x-python",
   "name": "python",
   "nbconvert_exporter": "python",
   "pygments_lexer": "ipython3",
   "version": "3.6.3"
  }
 },
 "nbformat": 4,
 "nbformat_minor": 2
}
